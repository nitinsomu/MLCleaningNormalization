{
 "cells": [
  {
   "cell_type": "code",
   "execution_count": 155,
   "id": "b59612b0",
   "metadata": {},
   "outputs": [],
   "source": [
    "import numpy as np\n",
    "import pandas as pd"
   ]
  },
  {
   "cell_type": "code",
   "execution_count": 156,
   "id": "06e9d53c",
   "metadata": {},
   "outputs": [],
   "source": [
    "no_samples = 250\n",
    "min_height = 4.5\n",
    "max_height = 7\n",
    "min_weight = 50000\n",
    "max_weight = 120000"
   ]
  },
  {
   "cell_type": "code",
   "execution_count": 157,
   "id": "396bbb32",
   "metadata": {},
   "outputs": [],
   "source": [
    "heights = np.random.uniform(min_height, max_height, no_samples)\n",
    "weights = np.random.uniform(min_weight, max_weight, no_samples)"
   ]
  },
  {
   "cell_type": "code",
   "execution_count": 158,
   "id": "d6902ee3",
   "metadata": {},
   "outputs": [
    {
     "data": {
      "text/plain": [
       "array([4.77357657, 5.67552833, 4.91710663, 6.90846303, 6.32839905,\n",
       "       6.88884797, 5.68379972, 5.76618438, 6.43348561, 5.04278082,\n",
       "       4.70527663, 6.88229504, 5.19736605, 5.94600026, 4.7342836 ,\n",
       "       6.69327583, 6.67080216, 4.97682648, 6.94519043, 6.34292073,\n",
       "       6.40771092, 4.58078433, 6.13193932, 4.9444188 , 6.30370347,\n",
       "       6.76415055, 6.28277114, 5.71523539, 6.72015196, 6.81251134,\n",
       "       5.46406913, 6.19040887, 6.72142189, 6.68128801, 6.9473786 ,\n",
       "       6.94174992, 5.04026582, 6.01294286, 4.65464909, 6.47797456,\n",
       "       6.37279226, 6.38496024, 4.58329405, 4.70552088, 6.18401168,\n",
       "       5.14363779, 6.11893084, 6.6819503 , 6.33352697, 5.86059442,\n",
       "       5.09279799, 5.97428923, 5.44190273, 5.55160899, 6.69557911,\n",
       "       5.55329857, 5.58092102, 6.93102722, 6.3939411 , 5.10025076,\n",
       "       5.56238967, 5.21687452, 6.56385666, 5.23274055, 5.68963787,\n",
       "       5.69647582, 5.46871314, 6.90507624, 4.87736733, 6.32642924,\n",
       "       6.6902264 , 5.16699643, 5.18427487, 5.99018368, 6.11873938,\n",
       "       4.59690232, 6.04273427, 6.76188765, 4.64016524, 6.8218773 ,\n",
       "       5.54969821, 5.10319443, 5.84284182, 6.24203192, 4.64023401,\n",
       "       6.03684255, 6.60482427, 6.3145697 , 5.58712583, 5.02234751,\n",
       "       5.89406528, 4.73799105, 4.67433711, 4.88928768, 5.11074078,\n",
       "       5.00998078, 6.31328046, 5.84244656, 5.37340655, 6.9766617 ,\n",
       "       6.32167653, 5.91306507, 6.46092439, 5.49120368, 6.15833972,\n",
       "       6.16846063, 4.78971504, 4.93829107, 5.52797718, 5.78386823,\n",
       "       6.46652797, 6.05980316, 5.25328253, 6.86306298, 6.64028685,\n",
       "       6.4682634 , 5.2812354 , 5.01973986, 4.67648189, 6.86395307,\n",
       "       6.76920863, 6.37867739, 6.3967455 , 6.38516488, 6.98321498,\n",
       "       4.71030027, 5.32331847, 5.62245102, 5.35800183, 4.95935092,\n",
       "       4.93003178, 6.51309263, 5.32052753, 5.60267284, 5.81185659,\n",
       "       5.71936106, 5.37960209, 5.76835622, 6.14996473, 4.56141159,\n",
       "       6.87651999, 6.42138022, 6.25640849, 4.79778716, 6.99609901,\n",
       "       5.46036622, 6.95497475, 6.15385543, 5.08836868, 6.29240624,\n",
       "       5.74285038, 5.26239862, 5.24923198, 5.25264865, 6.12940595,\n",
       "       6.24519483, 4.62120394, 4.90426574, 6.89526334, 6.94154823,\n",
       "       5.47853057, 5.7017133 , 5.40960145, 6.16806881, 5.4115367 ,\n",
       "       4.6223328 , 6.45481181, 4.6923151 , 5.32593587, 4.98510081,\n",
       "       5.54152065, 5.52591677, 5.30513151, 6.77689449, 6.63170483,\n",
       "       6.09148441, 6.44710914, 5.57994412, 5.93582966, 6.90861171,\n",
       "       5.77603718, 6.68778851, 5.98956071, 5.86822214, 6.04427542,\n",
       "       5.66436551, 6.1256079 , 5.23827095, 6.41913072, 6.86110152,\n",
       "       5.02349393, 6.64581801, 5.05005337, 4.85300978, 6.60778375,\n",
       "       6.68382491, 4.55562201, 6.76291254, 5.27354108, 6.95753393,\n",
       "       5.41512147, 4.79668332, 6.7948479 , 6.70377521, 5.73044602,\n",
       "       6.63432842, 4.58922343, 4.6197579 , 6.36834197, 5.37296568,\n",
       "       5.0999471 , 5.11989919, 6.38836918, 4.89109334, 6.61085901,\n",
       "       5.23348209, 6.07568841, 4.69111843, 6.55744105, 5.80724706,\n",
       "       5.26063337, 6.45829622, 5.19076329, 5.07999702, 6.05784372,\n",
       "       5.33507146, 6.83835188, 4.59968699, 6.17812177, 5.84574269,\n",
       "       6.38956688, 5.19001866, 4.81622808, 6.81582902, 6.41830717,\n",
       "       6.14157614, 5.53656335, 4.65114126, 5.54793408, 6.01775025,\n",
       "       4.96256621, 5.35296206, 5.34396765, 6.99922629, 4.89807143,\n",
       "       6.25486194, 6.66809024, 4.80071232, 5.50221879, 4.89379594])"
      ]
     },
     "execution_count": 158,
     "metadata": {},
     "output_type": "execute_result"
    }
   ],
   "source": [
    "heights"
   ]
  },
  {
   "cell_type": "code",
   "execution_count": 159,
   "id": "99bca0fe",
   "metadata": {},
   "outputs": [
    {
     "data": {
      "text/plain": [
       "array([ 61995.94313034,  54647.24069485, 119989.72403701,  75233.1457384 ,\n",
       "        62819.10498836, 105196.38402551,  82819.32128294,  51682.02011382,\n",
       "        73378.09294033,  92994.29084102,  83647.20543073,  96175.51329538,\n",
       "        96659.45036946,  60114.53322382,  55518.95636483,  92339.02661052,\n",
       "       113140.24398963,  95770.34478389,  60786.00852805,  73138.35010076,\n",
       "        50600.62481288,  78447.84383932,  78172.87165014,  93748.24123601,\n",
       "        63694.98861967, 114241.90590315, 109506.2339633 ,  67760.53511111,\n",
       "        57041.32912176,  65722.28804656, 104377.20831932,  53327.92215071,\n",
       "        51005.78646495,  84728.94218333,  57063.11170766,  87807.27819571,\n",
       "       113938.16128736, 101562.09570074,  85259.96740258, 101090.97890451,\n",
       "       111397.18745794,  66898.48101903,  54934.79794495,  57083.07181967,\n",
       "        75012.99821955,  75399.54663247,  70767.61526431,  80306.25715441,\n",
       "        52800.19709209,  69602.63300371,  74256.00012   ,  70394.44709876,\n",
       "       117409.06427993, 119725.15450371,  61116.69631871,  53379.49944505,\n",
       "       117082.97126835, 119328.47913402, 103998.92241011,  96336.76598472,\n",
       "        76574.46588054, 108695.83738442,  93606.91553371,  88881.87077376,\n",
       "       110379.96512851, 105197.41521064,  81294.48981802,  72068.51589553,\n",
       "        96350.64206083,  82260.47470587,  86834.56865815,  61771.3486063 ,\n",
       "        77137.86952442, 101046.24600255,  90221.30845329, 112666.74805366,\n",
       "        93573.04722014,  98643.4578717 , 102084.6808986 ,  64390.99571348,\n",
       "       111779.92406359,  95309.84147156,  78866.63206624, 116508.35655458,\n",
       "        90780.8507314 ,  85694.80581134, 112114.06357352,  51605.85807314,\n",
       "        84758.9409071 , 109449.39316019,  64200.63983714,  73472.10863989,\n",
       "       110719.212306  ,  53323.05211873, 107732.53863399, 117654.6939287 ,\n",
       "        77425.31725443,  71219.21266848,  69906.68737477, 118407.66442086,\n",
       "       103761.03128361,  89973.12555823,  66568.16607645,  58790.82539238,\n",
       "        60942.03265044,  50961.10616085,  89276.72010758,  51271.0021075 ,\n",
       "        72723.27172886,  78090.97325638,  80946.42875848,  73082.93495298,\n",
       "       110176.01874601,  61476.21500799,  63405.78348064,  66564.84424071,\n",
       "        72409.32570217, 109086.34595533, 107571.41440345,  78782.43393313,\n",
       "        67943.55843903, 115013.90678856,  99666.56861288,  60816.49738382,\n",
       "        70545.0508479 ,  54541.436885  ,  59075.57890658,  92939.7148741 ,\n",
       "        76509.615281  ,  84416.85887258,  85183.96159721,  59274.18577109,\n",
       "        95788.41827985, 116142.08167423,  60505.76639662, 119997.10939389,\n",
       "        52166.48595869,  60020.90897133,  93309.99817536, 107040.06159465,\n",
       "        57082.13043654,  58746.87819648,  50177.13668248,  82778.68175865,\n",
       "        96683.77080762, 118848.00271535, 104572.03370781,  97394.15760501,\n",
       "        91883.33247536,  89130.81501221,  83566.89470286, 103475.36780031,\n",
       "       118636.89116613,  97303.25765683, 114851.54169259, 108235.23825054,\n",
       "       115591.33901851,  61248.97103798,  63470.54330774, 106196.07877373,\n",
       "        91516.79234114,  87429.37372862,  68287.14065118,  97712.36296344,\n",
       "        60943.26366543,  81045.92907626,  72821.67574773,  55306.26445102,\n",
       "       119895.66756294,  67373.12510014, 107027.69787686,  52197.39028571,\n",
       "        58516.51095145,  72646.57261016,  65916.07744157,  97557.04069785,\n",
       "        54888.09235026, 111282.76986868, 108733.90797309,  59894.7494883 ,\n",
       "       104476.63818093,  66699.23821416, 117692.9525858 , 109234.1167502 ,\n",
       "        77505.97757695,  99346.40028127, 108834.38991417,  99498.23987095,\n",
       "        67532.34507792, 106524.03573253, 106998.4122228 , 112481.26502676,\n",
       "        73544.96588227,  89876.0920745 ,  98875.07697861,  93563.74815434,\n",
       "        53322.49897644,  86097.15861689,  86448.36965129,  63227.71339619,\n",
       "        80502.9202666 ,  83300.36786568, 105687.59522145,  57142.75692496,\n",
       "        99576.32865759, 102762.22658894,  85240.65916929,  94876.4693497 ,\n",
       "       113942.18542785,  70191.17760785,  64260.65338645, 110911.06413042,\n",
       "       114994.82905818,  54035.12140569,  84017.78882201,  94316.24652382,\n",
       "        76926.40217943, 110842.20538645, 112666.27850174,  77082.57346433,\n",
       "        90126.60744393,  85150.76007893, 102317.96072712,  51845.60311504,\n",
       "        98531.1740874 , 101894.21056961, 100707.41310203,  78503.78616592,\n",
       "        52940.0400228 ,  57509.94182863,  73233.77006467,  65222.87806642,\n",
       "        98672.38475373,  68925.46101655,  82088.33218099,  75205.48325188,\n",
       "        67440.37992002, 108726.02953023, 107018.39233239,  58967.3284057 ,\n",
       "        56144.26116588,  82338.00235797,  87571.93048454,  86495.02855407,\n",
       "        78358.72397167, 100070.91199832,  90644.03216266, 117090.26998045,\n",
       "        51225.56254032,  75344.45855384])"
      ]
     },
     "execution_count": 159,
     "metadata": {},
     "output_type": "execute_result"
    }
   ],
   "source": [
    "weights"
   ]
  },
  {
   "cell_type": "code",
   "execution_count": 160,
   "id": "2df297d8",
   "metadata": {},
   "outputs": [],
   "source": [
    "data = {\n",
    "        \"Heights\" : heights,\n",
    "        \"Weights\" : weights\n",
    "       }"
   ]
  },
  {
   "cell_type": "code",
   "execution_count": 161,
   "id": "be72afd4",
   "metadata": {},
   "outputs": [],
   "source": [
    "df = pd.DataFrame(data)"
   ]
  },
  {
   "cell_type": "code",
   "execution_count": 162,
   "id": "753b6383",
   "metadata": {
    "scrolled": true
   },
   "outputs": [
    {
     "data": {
      "text/html": [
       "<div>\n",
       "<style scoped>\n",
       "    .dataframe tbody tr th:only-of-type {\n",
       "        vertical-align: middle;\n",
       "    }\n",
       "\n",
       "    .dataframe tbody tr th {\n",
       "        vertical-align: top;\n",
       "    }\n",
       "\n",
       "    .dataframe thead th {\n",
       "        text-align: right;\n",
       "    }\n",
       "</style>\n",
       "<table border=\"1\" class=\"dataframe\">\n",
       "  <thead>\n",
       "    <tr style=\"text-align: right;\">\n",
       "      <th></th>\n",
       "      <th>Heights</th>\n",
       "      <th>Weights</th>\n",
       "    </tr>\n",
       "  </thead>\n",
       "  <tbody>\n",
       "    <tr>\n",
       "      <th>0</th>\n",
       "      <td>4.773577</td>\n",
       "      <td>61995.943130</td>\n",
       "    </tr>\n",
       "    <tr>\n",
       "      <th>1</th>\n",
       "      <td>5.675528</td>\n",
       "      <td>54647.240695</td>\n",
       "    </tr>\n",
       "    <tr>\n",
       "      <th>2</th>\n",
       "      <td>4.917107</td>\n",
       "      <td>119989.724037</td>\n",
       "    </tr>\n",
       "    <tr>\n",
       "      <th>3</th>\n",
       "      <td>6.908463</td>\n",
       "      <td>75233.145738</td>\n",
       "    </tr>\n",
       "    <tr>\n",
       "      <th>4</th>\n",
       "      <td>6.328399</td>\n",
       "      <td>62819.104988</td>\n",
       "    </tr>\n",
       "  </tbody>\n",
       "</table>\n",
       "</div>"
      ],
      "text/plain": [
       "    Heights        Weights\n",
       "0  4.773577   61995.943130\n",
       "1  5.675528   54647.240695\n",
       "2  4.917107  119989.724037\n",
       "3  6.908463   75233.145738\n",
       "4  6.328399   62819.104988"
      ]
     },
     "execution_count": 162,
     "metadata": {},
     "output_type": "execute_result"
    }
   ],
   "source": [
    "df.head()"
   ]
  },
  {
   "cell_type": "code",
   "execution_count": 163,
   "id": "f7470737",
   "metadata": {},
   "outputs": [
    {
     "data": {
      "text/html": [
       "<div>\n",
       "<style scoped>\n",
       "    .dataframe tbody tr th:only-of-type {\n",
       "        vertical-align: middle;\n",
       "    }\n",
       "\n",
       "    .dataframe tbody tr th {\n",
       "        vertical-align: top;\n",
       "    }\n",
       "\n",
       "    .dataframe thead th {\n",
       "        text-align: right;\n",
       "    }\n",
       "</style>\n",
       "<table border=\"1\" class=\"dataframe\">\n",
       "  <thead>\n",
       "    <tr style=\"text-align: right;\">\n",
       "      <th></th>\n",
       "      <th>Heights</th>\n",
       "      <th>Weights</th>\n",
       "    </tr>\n",
       "  </thead>\n",
       "  <tbody>\n",
       "    <tr>\n",
       "      <th>count</th>\n",
       "      <td>250.000000</td>\n",
       "      <td>250.000000</td>\n",
       "    </tr>\n",
       "    <tr>\n",
       "      <th>mean</th>\n",
       "      <td>5.805090</td>\n",
       "      <td>84527.897975</td>\n",
       "    </tr>\n",
       "    <tr>\n",
       "      <th>std</th>\n",
       "      <td>0.730721</td>\n",
       "      <td>20625.414121</td>\n",
       "    </tr>\n",
       "    <tr>\n",
       "      <th>min</th>\n",
       "      <td>4.555622</td>\n",
       "      <td>50177.136682</td>\n",
       "    </tr>\n",
       "    <tr>\n",
       "      <th>25%</th>\n",
       "      <td>5.190205</td>\n",
       "      <td>66600.934111</td>\n",
       "    </tr>\n",
       "    <tr>\n",
       "      <th>50%</th>\n",
       "      <td>5.795558</td>\n",
       "      <td>84572.900528</td>\n",
       "    </tr>\n",
       "    <tr>\n",
       "      <th>75%</th>\n",
       "      <td>6.418925</td>\n",
       "      <td>102259.640770</td>\n",
       "    </tr>\n",
       "    <tr>\n",
       "      <th>max</th>\n",
       "      <td>6.999226</td>\n",
       "      <td>119997.109394</td>\n",
       "    </tr>\n",
       "  </tbody>\n",
       "</table>\n",
       "</div>"
      ],
      "text/plain": [
       "          Heights        Weights\n",
       "count  250.000000     250.000000\n",
       "mean     5.805090   84527.897975\n",
       "std      0.730721   20625.414121\n",
       "min      4.555622   50177.136682\n",
       "25%      5.190205   66600.934111\n",
       "50%      5.795558   84572.900528\n",
       "75%      6.418925  102259.640770\n",
       "max      6.999226  119997.109394"
      ]
     },
     "execution_count": 163,
     "metadata": {},
     "output_type": "execute_result"
    }
   ],
   "source": [
    "df.describe()"
   ]
  },
  {
   "cell_type": "code",
   "execution_count": 164,
   "id": "6d087582",
   "metadata": {},
   "outputs": [],
   "source": [
    "from sklearn.preprocessing import StandardScaler, MinMaxScaler"
   ]
  },
  {
   "cell_type": "code",
   "execution_count": 165,
   "id": "466278df",
   "metadata": {},
   "outputs": [],
   "source": [
    "min_max_scaler = MinMaxScaler()\n",
    "df['MinMax Normalized Heights'] = min_max_scaler.fit_transform(df[['Heights']])\n",
    "df['MinMax Normalized Weights'] = min_max_scaler.fit_transform(df[['Weights']])\n",
    "zscore_scaler = StandardScaler()\n",
    "df['Z-Score Normalized Heights'] = zscore_scaler.fit_transform(df[['Heights']])\n",
    "df['Z-Score Normalized Weights'] = zscore_scaler.fit_transform(df[['Weights']])"
   ]
  },
  {
   "cell_type": "code",
   "execution_count": 166,
   "id": "3ba72b3d",
   "metadata": {},
   "outputs": [
    {
     "data": {
      "text/html": [
       "<div>\n",
       "<style scoped>\n",
       "    .dataframe tbody tr th:only-of-type {\n",
       "        vertical-align: middle;\n",
       "    }\n",
       "\n",
       "    .dataframe tbody tr th {\n",
       "        vertical-align: top;\n",
       "    }\n",
       "\n",
       "    .dataframe thead th {\n",
       "        text-align: right;\n",
       "    }\n",
       "</style>\n",
       "<table border=\"1\" class=\"dataframe\">\n",
       "  <thead>\n",
       "    <tr style=\"text-align: right;\">\n",
       "      <th></th>\n",
       "      <th>MinMax Normalized Heights</th>\n",
       "      <th>MinMax Normalized Weights</th>\n",
       "    </tr>\n",
       "  </thead>\n",
       "  <tbody>\n",
       "    <tr>\n",
       "      <th>0</th>\n",
       "      <td>0.089194</td>\n",
       "      <td>0.169275</td>\n",
       "    </tr>\n",
       "    <tr>\n",
       "      <th>1</th>\n",
       "      <td>0.458301</td>\n",
       "      <td>0.064023</td>\n",
       "    </tr>\n",
       "    <tr>\n",
       "      <th>2</th>\n",
       "      <td>0.147931</td>\n",
       "      <td>0.999894</td>\n",
       "    </tr>\n",
       "    <tr>\n",
       "      <th>3</th>\n",
       "      <td>0.962857</td>\n",
       "      <td>0.358866</td>\n",
       "    </tr>\n",
       "    <tr>\n",
       "      <th>4</th>\n",
       "      <td>0.725476</td>\n",
       "      <td>0.181065</td>\n",
       "    </tr>\n",
       "  </tbody>\n",
       "</table>\n",
       "</div>"
      ],
      "text/plain": [
       "   MinMax Normalized Heights  MinMax Normalized Weights\n",
       "0                   0.089194                   0.169275\n",
       "1                   0.458301                   0.064023\n",
       "2                   0.147931                   0.999894\n",
       "3                   0.962857                   0.358866\n",
       "4                   0.725476                   0.181065"
      ]
     },
     "execution_count": 166,
     "metadata": {},
     "output_type": "execute_result"
    }
   ],
   "source": [
    "df[['MinMax Normalized Heights', 'MinMax Normalized Weights']].head()"
   ]
  },
  {
   "cell_type": "code",
   "execution_count": 167,
   "id": "06e58563",
   "metadata": {},
   "outputs": [
    {
     "data": {
      "text/html": [
       "<div>\n",
       "<style scoped>\n",
       "    .dataframe tbody tr th:only-of-type {\n",
       "        vertical-align: middle;\n",
       "    }\n",
       "\n",
       "    .dataframe tbody tr th {\n",
       "        vertical-align: top;\n",
       "    }\n",
       "\n",
       "    .dataframe thead th {\n",
       "        text-align: right;\n",
       "    }\n",
       "</style>\n",
       "<table border=\"1\" class=\"dataframe\">\n",
       "  <thead>\n",
       "    <tr style=\"text-align: right;\">\n",
       "      <th></th>\n",
       "      <th>MinMax Normalized Heights</th>\n",
       "      <th>MinMax Normalized Weights</th>\n",
       "    </tr>\n",
       "  </thead>\n",
       "  <tbody>\n",
       "    <tr>\n",
       "      <th>count</th>\n",
       "      <td>250.000000</td>\n",
       "      <td>250.000000</td>\n",
       "    </tr>\n",
       "    <tr>\n",
       "      <th>mean</th>\n",
       "      <td>0.511322</td>\n",
       "      <td>0.491990</td>\n",
       "    </tr>\n",
       "    <tr>\n",
       "      <th>std</th>\n",
       "      <td>0.299034</td>\n",
       "      <td>0.295409</td>\n",
       "    </tr>\n",
       "    <tr>\n",
       "      <th>min</th>\n",
       "      <td>0.000000</td>\n",
       "      <td>0.000000</td>\n",
       "    </tr>\n",
       "    <tr>\n",
       "      <th>25%</th>\n",
       "      <td>0.259691</td>\n",
       "      <td>0.235231</td>\n",
       "    </tr>\n",
       "    <tr>\n",
       "      <th>50%</th>\n",
       "      <td>0.507421</td>\n",
       "      <td>0.492635</td>\n",
       "    </tr>\n",
       "    <tr>\n",
       "      <th>75%</th>\n",
       "      <td>0.762522</td>\n",
       "      <td>0.745954</td>\n",
       "    </tr>\n",
       "    <tr>\n",
       "      <th>max</th>\n",
       "      <td>1.000000</td>\n",
       "      <td>1.000000</td>\n",
       "    </tr>\n",
       "  </tbody>\n",
       "</table>\n",
       "</div>"
      ],
      "text/plain": [
       "       MinMax Normalized Heights  MinMax Normalized Weights\n",
       "count                 250.000000                 250.000000\n",
       "mean                    0.511322                   0.491990\n",
       "std                     0.299034                   0.295409\n",
       "min                     0.000000                   0.000000\n",
       "25%                     0.259691                   0.235231\n",
       "50%                     0.507421                   0.492635\n",
       "75%                     0.762522                   0.745954\n",
       "max                     1.000000                   1.000000"
      ]
     },
     "execution_count": 167,
     "metadata": {},
     "output_type": "execute_result"
    }
   ],
   "source": [
    "df[['MinMax Normalized Heights', 'MinMax Normalized Weights']].describe()"
   ]
  },
  {
   "cell_type": "code",
   "execution_count": 168,
   "id": "b739182b",
   "metadata": {},
   "outputs": [
    {
     "data": {
      "text/html": [
       "<div>\n",
       "<style scoped>\n",
       "    .dataframe tbody tr th:only-of-type {\n",
       "        vertical-align: middle;\n",
       "    }\n",
       "\n",
       "    .dataframe tbody tr th {\n",
       "        vertical-align: top;\n",
       "    }\n",
       "\n",
       "    .dataframe thead th {\n",
       "        text-align: right;\n",
       "    }\n",
       "</style>\n",
       "<table border=\"1\" class=\"dataframe\">\n",
       "  <thead>\n",
       "    <tr style=\"text-align: right;\">\n",
       "      <th></th>\n",
       "      <th>Z-Score Normalized Heights</th>\n",
       "      <th>Z-Score Normalized Weights</th>\n",
       "    </tr>\n",
       "  </thead>\n",
       "  <tbody>\n",
       "    <tr>\n",
       "      <th>0</th>\n",
       "      <td>-1.414469</td>\n",
       "      <td>-1.094628</td>\n",
       "    </tr>\n",
       "    <tr>\n",
       "      <th>1</th>\n",
       "      <td>-0.177662</td>\n",
       "      <td>-1.451636</td>\n",
       "    </tr>\n",
       "    <tr>\n",
       "      <th>2</th>\n",
       "      <td>-1.217653</td>\n",
       "      <td>1.722776</td>\n",
       "    </tr>\n",
       "    <tr>\n",
       "      <th>3</th>\n",
       "      <td>1.513008</td>\n",
       "      <td>-0.451550</td>\n",
       "    </tr>\n",
       "    <tr>\n",
       "      <th>4</th>\n",
       "      <td>0.717591</td>\n",
       "      <td>-1.054638</td>\n",
       "    </tr>\n",
       "  </tbody>\n",
       "</table>\n",
       "</div>"
      ],
      "text/plain": [
       "   Z-Score Normalized Heights  Z-Score Normalized Weights\n",
       "0                   -1.414469                   -1.094628\n",
       "1                   -0.177662                   -1.451636\n",
       "2                   -1.217653                    1.722776\n",
       "3                    1.513008                   -0.451550\n",
       "4                    0.717591                   -1.054638"
      ]
     },
     "execution_count": 168,
     "metadata": {},
     "output_type": "execute_result"
    }
   ],
   "source": [
    "df[['Z-Score Normalized Heights', 'Z-Score Normalized Weights']].head()"
   ]
  },
  {
   "cell_type": "code",
   "execution_count": 169,
   "id": "0814bf19",
   "metadata": {},
   "outputs": [
    {
     "data": {
      "text/html": [
       "<div>\n",
       "<style scoped>\n",
       "    .dataframe tbody tr th:only-of-type {\n",
       "        vertical-align: middle;\n",
       "    }\n",
       "\n",
       "    .dataframe tbody tr th {\n",
       "        vertical-align: top;\n",
       "    }\n",
       "\n",
       "    .dataframe thead th {\n",
       "        text-align: right;\n",
       "    }\n",
       "</style>\n",
       "<table border=\"1\" class=\"dataframe\">\n",
       "  <thead>\n",
       "    <tr style=\"text-align: right;\">\n",
       "      <th></th>\n",
       "      <th>Z-Score Normalized Heights</th>\n",
       "      <th>Z-Score Normalized Weights</th>\n",
       "    </tr>\n",
       "  </thead>\n",
       "  <tbody>\n",
       "    <tr>\n",
       "      <th>count</th>\n",
       "      <td>2.500000e+02</td>\n",
       "      <td>2.500000e+02</td>\n",
       "    </tr>\n",
       "    <tr>\n",
       "      <th>mean</th>\n",
       "      <td>-4.805045e-16</td>\n",
       "      <td>1.296740e-16</td>\n",
       "    </tr>\n",
       "    <tr>\n",
       "      <th>std</th>\n",
       "      <td>1.002006e+00</td>\n",
       "      <td>1.002006e+00</td>\n",
       "    </tr>\n",
       "    <tr>\n",
       "      <th>min</th>\n",
       "      <td>-1.713341e+00</td>\n",
       "      <td>-1.668799e+00</td>\n",
       "    </tr>\n",
       "    <tr>\n",
       "      <th>25%</th>\n",
       "      <td>-8.431650e-01</td>\n",
       "      <td>-8.709122e-01</td>\n",
       "    </tr>\n",
       "    <tr>\n",
       "      <th>50%</th>\n",
       "      <td>-1.307106e-02</td>\n",
       "      <td>2.186275e-03</td>\n",
       "    </tr>\n",
       "    <tr>\n",
       "      <th>75%</th>\n",
       "      <td>8.417252e-01</td>\n",
       "      <td>8.614282e-01</td>\n",
       "    </tr>\n",
       "    <tr>\n",
       "      <th>max</th>\n",
       "      <td>1.637467e+00</td>\n",
       "      <td>1.723135e+00</td>\n",
       "    </tr>\n",
       "  </tbody>\n",
       "</table>\n",
       "</div>"
      ],
      "text/plain": [
       "       Z-Score Normalized Heights  Z-Score Normalized Weights\n",
       "count                2.500000e+02                2.500000e+02\n",
       "mean                -4.805045e-16                1.296740e-16\n",
       "std                  1.002006e+00                1.002006e+00\n",
       "min                 -1.713341e+00               -1.668799e+00\n",
       "25%                 -8.431650e-01               -8.709122e-01\n",
       "50%                 -1.307106e-02                2.186275e-03\n",
       "75%                  8.417252e-01                8.614282e-01\n",
       "max                  1.637467e+00                1.723135e+00"
      ]
     },
     "execution_count": 169,
     "metadata": {},
     "output_type": "execute_result"
    }
   ],
   "source": [
    "df[['Z-Score Normalized Heights', 'Z-Score Normalized Weights']].describe()"
   ]
  },
  {
   "cell_type": "code",
   "execution_count": 170,
   "id": "8c18d253",
   "metadata": {
    "scrolled": true
   },
   "outputs": [
    {
     "data": {
      "text/html": [
       "<div>\n",
       "<style scoped>\n",
       "    .dataframe tbody tr th:only-of-type {\n",
       "        vertical-align: middle;\n",
       "    }\n",
       "\n",
       "    .dataframe tbody tr th {\n",
       "        vertical-align: top;\n",
       "    }\n",
       "\n",
       "    .dataframe thead th {\n",
       "        text-align: right;\n",
       "    }\n",
       "</style>\n",
       "<table border=\"1\" class=\"dataframe\">\n",
       "  <thead>\n",
       "    <tr style=\"text-align: right;\">\n",
       "      <th></th>\n",
       "      <th>Heights</th>\n",
       "      <th>Weights</th>\n",
       "      <th>MinMax Normalized Heights</th>\n",
       "      <th>MinMax Normalized Weights</th>\n",
       "      <th>Z-Score Normalized Heights</th>\n",
       "      <th>Z-Score Normalized Weights</th>\n",
       "    </tr>\n",
       "  </thead>\n",
       "  <tbody>\n",
       "    <tr>\n",
       "      <th>0</th>\n",
       "      <td>4.773577</td>\n",
       "      <td>61995.943130</td>\n",
       "      <td>0.089194</td>\n",
       "      <td>0.169275</td>\n",
       "      <td>-1.414469</td>\n",
       "      <td>-1.094628</td>\n",
       "    </tr>\n",
       "    <tr>\n",
       "      <th>1</th>\n",
       "      <td>5.675528</td>\n",
       "      <td>54647.240695</td>\n",
       "      <td>0.458301</td>\n",
       "      <td>0.064023</td>\n",
       "      <td>-0.177662</td>\n",
       "      <td>-1.451636</td>\n",
       "    </tr>\n",
       "    <tr>\n",
       "      <th>2</th>\n",
       "      <td>4.917107</td>\n",
       "      <td>119989.724037</td>\n",
       "      <td>0.147931</td>\n",
       "      <td>0.999894</td>\n",
       "      <td>-1.217653</td>\n",
       "      <td>1.722776</td>\n",
       "    </tr>\n",
       "    <tr>\n",
       "      <th>3</th>\n",
       "      <td>6.908463</td>\n",
       "      <td>75233.145738</td>\n",
       "      <td>0.962857</td>\n",
       "      <td>0.358866</td>\n",
       "      <td>1.513008</td>\n",
       "      <td>-0.451550</td>\n",
       "    </tr>\n",
       "    <tr>\n",
       "      <th>4</th>\n",
       "      <td>6.328399</td>\n",
       "      <td>62819.104988</td>\n",
       "      <td>0.725476</td>\n",
       "      <td>0.181065</td>\n",
       "      <td>0.717591</td>\n",
       "      <td>-1.054638</td>\n",
       "    </tr>\n",
       "  </tbody>\n",
       "</table>\n",
       "</div>"
      ],
      "text/plain": [
       "    Heights        Weights  MinMax Normalized Heights  \\\n",
       "0  4.773577   61995.943130                   0.089194   \n",
       "1  5.675528   54647.240695                   0.458301   \n",
       "2  4.917107  119989.724037                   0.147931   \n",
       "3  6.908463   75233.145738                   0.962857   \n",
       "4  6.328399   62819.104988                   0.725476   \n",
       "\n",
       "   MinMax Normalized Weights  Z-Score Normalized Heights  \\\n",
       "0                   0.169275                   -1.414469   \n",
       "1                   0.064023                   -0.177662   \n",
       "2                   0.999894                   -1.217653   \n",
       "3                   0.358866                    1.513008   \n",
       "4                   0.181065                    0.717591   \n",
       "\n",
       "   Z-Score Normalized Weights  \n",
       "0                   -1.094628  \n",
       "1                   -1.451636  \n",
       "2                    1.722776  \n",
       "3                   -0.451550  \n",
       "4                   -1.054638  "
      ]
     },
     "execution_count": 170,
     "metadata": {},
     "output_type": "execute_result"
    }
   ],
   "source": [
    "df.head()"
   ]
  },
  {
   "cell_type": "code",
   "execution_count": 171,
   "id": "6eeb6dcd",
   "metadata": {},
   "outputs": [],
   "source": [
    "m_df = pd.read_csv(\"melb_data.csv\")"
   ]
  },
  {
   "cell_type": "code",
   "execution_count": 172,
   "id": "72df04d0",
   "metadata": {},
   "outputs": [
    {
     "data": {
      "text/plain": [
       "13580"
      ]
     },
     "execution_count": 172,
     "metadata": {},
     "output_type": "execute_result"
    }
   ],
   "source": [
    "len(m_df)"
   ]
  },
  {
   "cell_type": "code",
   "execution_count": 173,
   "id": "f9549b1a",
   "metadata": {},
   "outputs": [
    {
     "data": {
      "text/plain": [
       "Suburb              0\n",
       "Address             0\n",
       "Rooms               0\n",
       "Type                0\n",
       "Price               0\n",
       "Method              0\n",
       "SellerG             0\n",
       "Date                0\n",
       "Distance            0\n",
       "Postcode            0\n",
       "Bedroom2            0\n",
       "Bathroom            0\n",
       "Car                62\n",
       "Landsize            0\n",
       "BuildingArea     6450\n",
       "YearBuilt        5375\n",
       "CouncilArea      1369\n",
       "Lattitude           0\n",
       "Longtitude          0\n",
       "Regionname          0\n",
       "Propertycount       0\n",
       "dtype: int64"
      ]
     },
     "execution_count": 173,
     "metadata": {},
     "output_type": "execute_result"
    }
   ],
   "source": [
    "m_df.isnull().sum()"
   ]
  },
  {
   "cell_type": "code",
   "execution_count": 174,
   "id": "3ae0587c",
   "metadata": {},
   "outputs": [],
   "source": [
    "m_df = m_df.dropna(subset=['Car'])"
   ]
  },
  {
   "cell_type": "code",
   "execution_count": 175,
   "id": "935fa3d6",
   "metadata": {},
   "outputs": [
    {
     "data": {
      "text/plain": [
       "13518"
      ]
     },
     "execution_count": 175,
     "metadata": {},
     "output_type": "execute_result"
    }
   ],
   "source": [
    "len(m_df)"
   ]
  },
  {
   "cell_type": "code",
   "execution_count": 176,
   "id": "7be767bd",
   "metadata": {},
   "outputs": [
    {
     "data": {
      "text/plain": [
       "Suburb              0\n",
       "Address             0\n",
       "Rooms               0\n",
       "Type                0\n",
       "Price               0\n",
       "Method              0\n",
       "SellerG             0\n",
       "Date                0\n",
       "Distance            0\n",
       "Postcode            0\n",
       "Bedroom2            0\n",
       "Bathroom            0\n",
       "Car                 0\n",
       "Landsize            0\n",
       "BuildingArea     6417\n",
       "YearBuilt        5344\n",
       "CouncilArea      1307\n",
       "Lattitude           0\n",
       "Longtitude          0\n",
       "Regionname          0\n",
       "Propertycount       0\n",
       "dtype: int64"
      ]
     },
     "execution_count": 176,
     "metadata": {},
     "output_type": "execute_result"
    }
   ],
   "source": [
    "m_df.isnull().sum()"
   ]
  },
  {
   "cell_type": "code",
   "execution_count": 177,
   "id": "92342a27",
   "metadata": {},
   "outputs": [],
   "source": [
    "m_df = m_df.drop(columns=['BuildingArea'])"
   ]
  },
  {
   "cell_type": "code",
   "execution_count": 178,
   "id": "4cff512b",
   "metadata": {},
   "outputs": [
    {
     "data": {
      "text/plain": [
       "Suburb              0\n",
       "Address             0\n",
       "Rooms               0\n",
       "Type                0\n",
       "Price               0\n",
       "Method              0\n",
       "SellerG             0\n",
       "Date                0\n",
       "Distance            0\n",
       "Postcode            0\n",
       "Bedroom2            0\n",
       "Bathroom            0\n",
       "Car                 0\n",
       "Landsize            0\n",
       "YearBuilt        5344\n",
       "CouncilArea      1307\n",
       "Lattitude           0\n",
       "Longtitude          0\n",
       "Regionname          0\n",
       "Propertycount       0\n",
       "dtype: int64"
      ]
     },
     "execution_count": 178,
     "metadata": {},
     "output_type": "execute_result"
    }
   ],
   "source": [
    "m_df.isnull().sum()"
   ]
  },
  {
   "cell_type": "code",
   "execution_count": 179,
   "id": "c54d0d22",
   "metadata": {},
   "outputs": [],
   "source": [
    "year_built_mean = int(m_df['YearBuilt'].mean())\n",
    "\n",
    "m_df['YearBuilt'].fillna(year_built_mean, inplace=True)"
   ]
  },
  {
   "cell_type": "code",
   "execution_count": 180,
   "id": "68ce48cc",
   "metadata": {},
   "outputs": [
    {
     "data": {
      "text/plain": [
       "Suburb              0\n",
       "Address             0\n",
       "Rooms               0\n",
       "Type                0\n",
       "Price               0\n",
       "Method              0\n",
       "SellerG             0\n",
       "Date                0\n",
       "Distance            0\n",
       "Postcode            0\n",
       "Bedroom2            0\n",
       "Bathroom            0\n",
       "Car                 0\n",
       "Landsize            0\n",
       "YearBuilt           0\n",
       "CouncilArea      1307\n",
       "Lattitude           0\n",
       "Longtitude          0\n",
       "Regionname          0\n",
       "Propertycount       0\n",
       "dtype: int64"
      ]
     },
     "execution_count": 180,
     "metadata": {},
     "output_type": "execute_result"
    }
   ],
   "source": [
    "m_df.isnull().sum()"
   ]
  },
  {
   "cell_type": "code",
   "execution_count": 181,
   "id": "dc595f23",
   "metadata": {
    "scrolled": true
   },
   "outputs": [
    {
     "data": {
      "text/html": [
       "<div>\n",
       "<style scoped>\n",
       "    .dataframe tbody tr th:only-of-type {\n",
       "        vertical-align: middle;\n",
       "    }\n",
       "\n",
       "    .dataframe tbody tr th {\n",
       "        vertical-align: top;\n",
       "    }\n",
       "\n",
       "    .dataframe thead th {\n",
       "        text-align: right;\n",
       "    }\n",
       "</style>\n",
       "<table border=\"1\" class=\"dataframe\">\n",
       "  <thead>\n",
       "    <tr style=\"text-align: right;\">\n",
       "      <th></th>\n",
       "      <th>Suburb</th>\n",
       "      <th>Address</th>\n",
       "      <th>Rooms</th>\n",
       "      <th>Type</th>\n",
       "      <th>Price</th>\n",
       "      <th>Method</th>\n",
       "      <th>SellerG</th>\n",
       "      <th>Date</th>\n",
       "      <th>Distance</th>\n",
       "      <th>Postcode</th>\n",
       "      <th>Bedroom2</th>\n",
       "      <th>Bathroom</th>\n",
       "      <th>Car</th>\n",
       "      <th>Landsize</th>\n",
       "      <th>YearBuilt</th>\n",
       "      <th>CouncilArea</th>\n",
       "      <th>Lattitude</th>\n",
       "      <th>Longtitude</th>\n",
       "      <th>Regionname</th>\n",
       "      <th>Propertycount</th>\n",
       "    </tr>\n",
       "  </thead>\n",
       "  <tbody>\n",
       "    <tr>\n",
       "      <th>0</th>\n",
       "      <td>Abbotsford</td>\n",
       "      <td>85 Turner St</td>\n",
       "      <td>2</td>\n",
       "      <td>h</td>\n",
       "      <td>1480000.0</td>\n",
       "      <td>S</td>\n",
       "      <td>Biggin</td>\n",
       "      <td>3/12/2016</td>\n",
       "      <td>2.5</td>\n",
       "      <td>3067.0</td>\n",
       "      <td>2.0</td>\n",
       "      <td>1.0</td>\n",
       "      <td>1.0</td>\n",
       "      <td>202.0</td>\n",
       "      <td>1964.0</td>\n",
       "      <td>Yarra</td>\n",
       "      <td>-37.7996</td>\n",
       "      <td>144.9984</td>\n",
       "      <td>Northern Metropolitan</td>\n",
       "      <td>4019.0</td>\n",
       "    </tr>\n",
       "    <tr>\n",
       "      <th>1</th>\n",
       "      <td>Abbotsford</td>\n",
       "      <td>25 Bloomburg St</td>\n",
       "      <td>2</td>\n",
       "      <td>h</td>\n",
       "      <td>1035000.0</td>\n",
       "      <td>S</td>\n",
       "      <td>Biggin</td>\n",
       "      <td>4/02/2016</td>\n",
       "      <td>2.5</td>\n",
       "      <td>3067.0</td>\n",
       "      <td>2.0</td>\n",
       "      <td>1.0</td>\n",
       "      <td>0.0</td>\n",
       "      <td>156.0</td>\n",
       "      <td>1900.0</td>\n",
       "      <td>Yarra</td>\n",
       "      <td>-37.8079</td>\n",
       "      <td>144.9934</td>\n",
       "      <td>Northern Metropolitan</td>\n",
       "      <td>4019.0</td>\n",
       "    </tr>\n",
       "    <tr>\n",
       "      <th>2</th>\n",
       "      <td>Abbotsford</td>\n",
       "      <td>5 Charles St</td>\n",
       "      <td>3</td>\n",
       "      <td>h</td>\n",
       "      <td>1465000.0</td>\n",
       "      <td>SP</td>\n",
       "      <td>Biggin</td>\n",
       "      <td>4/03/2017</td>\n",
       "      <td>2.5</td>\n",
       "      <td>3067.0</td>\n",
       "      <td>3.0</td>\n",
       "      <td>2.0</td>\n",
       "      <td>0.0</td>\n",
       "      <td>134.0</td>\n",
       "      <td>1900.0</td>\n",
       "      <td>Yarra</td>\n",
       "      <td>-37.8093</td>\n",
       "      <td>144.9944</td>\n",
       "      <td>Northern Metropolitan</td>\n",
       "      <td>4019.0</td>\n",
       "    </tr>\n",
       "    <tr>\n",
       "      <th>3</th>\n",
       "      <td>Abbotsford</td>\n",
       "      <td>40 Federation La</td>\n",
       "      <td>3</td>\n",
       "      <td>h</td>\n",
       "      <td>850000.0</td>\n",
       "      <td>PI</td>\n",
       "      <td>Biggin</td>\n",
       "      <td>4/03/2017</td>\n",
       "      <td>2.5</td>\n",
       "      <td>3067.0</td>\n",
       "      <td>3.0</td>\n",
       "      <td>2.0</td>\n",
       "      <td>1.0</td>\n",
       "      <td>94.0</td>\n",
       "      <td>1964.0</td>\n",
       "      <td>Yarra</td>\n",
       "      <td>-37.7969</td>\n",
       "      <td>144.9969</td>\n",
       "      <td>Northern Metropolitan</td>\n",
       "      <td>4019.0</td>\n",
       "    </tr>\n",
       "    <tr>\n",
       "      <th>4</th>\n",
       "      <td>Abbotsford</td>\n",
       "      <td>55a Park St</td>\n",
       "      <td>4</td>\n",
       "      <td>h</td>\n",
       "      <td>1600000.0</td>\n",
       "      <td>VB</td>\n",
       "      <td>Nelson</td>\n",
       "      <td>4/06/2016</td>\n",
       "      <td>2.5</td>\n",
       "      <td>3067.0</td>\n",
       "      <td>3.0</td>\n",
       "      <td>1.0</td>\n",
       "      <td>2.0</td>\n",
       "      <td>120.0</td>\n",
       "      <td>2014.0</td>\n",
       "      <td>Yarra</td>\n",
       "      <td>-37.8072</td>\n",
       "      <td>144.9941</td>\n",
       "      <td>Northern Metropolitan</td>\n",
       "      <td>4019.0</td>\n",
       "    </tr>\n",
       "  </tbody>\n",
       "</table>\n",
       "</div>"
      ],
      "text/plain": [
       "       Suburb           Address  Rooms Type      Price Method SellerG  \\\n",
       "0  Abbotsford      85 Turner St      2    h  1480000.0      S  Biggin   \n",
       "1  Abbotsford   25 Bloomburg St      2    h  1035000.0      S  Biggin   \n",
       "2  Abbotsford      5 Charles St      3    h  1465000.0     SP  Biggin   \n",
       "3  Abbotsford  40 Federation La      3    h   850000.0     PI  Biggin   \n",
       "4  Abbotsford       55a Park St      4    h  1600000.0     VB  Nelson   \n",
       "\n",
       "        Date  Distance  Postcode  Bedroom2  Bathroom  Car  Landsize  \\\n",
       "0  3/12/2016       2.5    3067.0       2.0       1.0  1.0     202.0   \n",
       "1  4/02/2016       2.5    3067.0       2.0       1.0  0.0     156.0   \n",
       "2  4/03/2017       2.5    3067.0       3.0       2.0  0.0     134.0   \n",
       "3  4/03/2017       2.5    3067.0       3.0       2.0  1.0      94.0   \n",
       "4  4/06/2016       2.5    3067.0       3.0       1.0  2.0     120.0   \n",
       "\n",
       "   YearBuilt CouncilArea  Lattitude  Longtitude             Regionname  \\\n",
       "0     1964.0       Yarra   -37.7996    144.9984  Northern Metropolitan   \n",
       "1     1900.0       Yarra   -37.8079    144.9934  Northern Metropolitan   \n",
       "2     1900.0       Yarra   -37.8093    144.9944  Northern Metropolitan   \n",
       "3     1964.0       Yarra   -37.7969    144.9969  Northern Metropolitan   \n",
       "4     2014.0       Yarra   -37.8072    144.9941  Northern Metropolitan   \n",
       "\n",
       "   Propertycount  \n",
       "0         4019.0  \n",
       "1         4019.0  \n",
       "2         4019.0  \n",
       "3         4019.0  \n",
       "4         4019.0  "
      ]
     },
     "execution_count": 181,
     "metadata": {},
     "output_type": "execute_result"
    }
   ],
   "source": [
    "m_df.head()"
   ]
  },
  {
   "cell_type": "code",
   "execution_count": 182,
   "id": "a3555a13",
   "metadata": {},
   "outputs": [],
   "source": [
    "from sklearn.preprocessing import LabelEncoder\n",
    "from sklearn.neighbors import KNeighborsClassifier"
   ]
  },
  {
   "cell_type": "code",
   "execution_count": 186,
   "id": "f1d946f1",
   "metadata": {},
   "outputs": [],
   "source": [
    "label_encoder = LabelEncoder()\n",
    "m_df['CouncilArea_encoded'] = label_encoder.fit_transform(m_df['CouncilArea'].astype(str))\n",
    "\n",
    "# Prepare features (Postcode) and target (CouncilArea)\n",
    "X = m_df[['Postcode']]\n",
    "y = m_df['CouncilArea_encoded']\n",
    "\n",
    "# Prepare for KNN\n",
    "train_df = m_df.dropna(subset=['CouncilArea'])\n",
    "X_train = train_df[['Postcode']]\n",
    "y_train = train_df['CouncilArea_encoded']\n",
    "X_missing = m_df[m_df['CouncilArea'].isna()][['Postcode']]\n",
    "\n",
    "# Fit KNN Classifier\n",
    "knn = KNeighborsClassifier(n_neighbors=5)\n",
    "knn.fit(X_train, y_train)\n",
    "\n",
    "# Predict missing CouncilArea values\n",
    "predicted = knn.predict(X_missing)\n",
    "m_df.loc[m_df['CouncilArea'].isna(), 'CouncilArea_encoded'] = predicted\n",
    "m_df['CouncilArea'] = label_encoder.inverse_transform(m_df['CouncilArea_encoded'])\n",
    "\n",
    "# Drop the encoded column\n",
    "m_df.drop(columns=['CouncilArea_encoded'], inplace=True)"
   ]
  },
  {
   "cell_type": "code",
   "execution_count": 187,
   "id": "da71bfdc",
   "metadata": {},
   "outputs": [
    {
     "data": {
      "text/plain": [
       "Suburb           0\n",
       "Address          0\n",
       "Rooms            0\n",
       "Type             0\n",
       "Price            0\n",
       "Method           0\n",
       "SellerG          0\n",
       "Date             0\n",
       "Distance         0\n",
       "Postcode         0\n",
       "Bedroom2         0\n",
       "Bathroom         0\n",
       "Car              0\n",
       "Landsize         0\n",
       "YearBuilt        0\n",
       "CouncilArea      0\n",
       "Lattitude        0\n",
       "Longtitude       0\n",
       "Regionname       0\n",
       "Propertycount    0\n",
       "dtype: int64"
      ]
     },
     "execution_count": 187,
     "metadata": {},
     "output_type": "execute_result"
    }
   ],
   "source": [
    "m_df.isnull().sum()"
   ]
  },
  {
   "cell_type": "code",
   "execution_count": null,
   "id": "40930365",
   "metadata": {},
   "outputs": [],
   "source": []
  },
  {
   "cell_type": "code",
   "execution_count": null,
   "id": "a09603c5",
   "metadata": {},
   "outputs": [],
   "source": []
  }
 ],
 "metadata": {
  "kernelspec": {
   "display_name": "Python 3 (ipykernel)",
   "language": "python",
   "name": "python3"
  },
  "language_info": {
   "codemirror_mode": {
    "name": "ipython",
    "version": 3
   },
   "file_extension": ".py",
   "mimetype": "text/x-python",
   "name": "python",
   "nbconvert_exporter": "python",
   "pygments_lexer": "ipython3",
   "version": "3.9.13"
  }
 },
 "nbformat": 4,
 "nbformat_minor": 5
}
